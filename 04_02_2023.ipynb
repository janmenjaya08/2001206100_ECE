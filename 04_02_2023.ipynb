{
  "nbformat": 4,
  "nbformat_minor": 0,
  "metadata": {
    "colab": {
      "provenance": [],
      "authorship_tag": "ABX9TyMG7jPnaGRSUZvvpNzHNvG9",
      "include_colab_link": true
    },
    "kernelspec": {
      "name": "python3",
      "display_name": "Python 3"
    },
    "language_info": {
      "name": "python"
    }
  },
  "cells": [
    {
      "cell_type": "markdown",
      "metadata": {
        "id": "view-in-github",
        "colab_type": "text"
      },
      "source": [
        "<a href=\"https://colab.research.google.com/github/janmenjaya08/2001206100_ECE/blob/main/04_02_2023.ipynb\" target=\"_parent\"><img src=\"https://colab.research.google.com/assets/colab-badge.svg\" alt=\"Open In Colab\"/></a>"
      ]
    },
    {
      "cell_type": "code",
      "execution_count": 8,
      "metadata": {
        "colab": {
          "base_uri": "https://localhost:8080/"
        },
        "id": "B6zkYh3tsWne",
        "outputId": "685e5858-4cb5-445f-bd81-ce815044bd47"
      },
      "outputs": [
        {
          "output_type": "stream",
          "name": "stdout",
          "text": [
            "a/b= 2.5\n",
            "a//b= 2\n",
            "a**b= 25\n",
            "a<b= False\n",
            "a>b= True\n"
          ]
        }
      ],
      "source": [
        "#using Arithmetic operators and Comparision operators\n",
        "a=5\n",
        "b=2\n",
        "print('a/b=',a/b)\n",
        "print('a//b=',a//b)\n",
        "print('a**b=',a**b)\n",
        "print('a<b=',a<b)\n",
        "print('a>b=',a>b)"
      ]
    },
    {
      "cell_type": "code",
      "source": [
        "#using Logical Operators\n",
        "a=True\n",
        "print('not A=',not a)\n",
        "b=False\n",
        "print('not B=',not b)"
      ],
      "metadata": {
        "colab": {
          "base_uri": "https://localhost:8080/"
        },
        "id": "GGSTKUalvEls",
        "outputId": "998f30c1-c1ff-4125-a6ed-4d82ddb5af2b"
      },
      "execution_count": 9,
      "outputs": [
        {
          "output_type": "stream",
          "name": "stdout",
          "text": [
            "not A= False\n",
            "not B= True\n"
          ]
        }
      ]
    },
    {
      "cell_type": "code",
      "source": [
        "#Using Bitwise Operator\n",
        "a=2\n",
        "b=3\n",
        "c=a<<b\n",
        "print(c)"
      ],
      "metadata": {
        "colab": {
          "base_uri": "https://localhost:8080/"
        },
        "id": "e1oDmHudw1iz",
        "outputId": "1537ed1b-f4ba-44b3-ea35-bee279ad4cee"
      },
      "execution_count": 12,
      "outputs": [
        {
          "output_type": "stream",
          "name": "stdout",
          "text": [
            "16\n"
          ]
        }
      ]
    },
    {
      "cell_type": "code",
      "source": [
        "#using IDENTity OPERATOR(is and is not)\n",
        "a=5\n",
        "b=5\n",
        "print(' a is b',a is b)\n",
        "print(' a is not b', a is not b)\n",
        "x='cse'\n",
        "y='ece'\n",
        "print('x is y',x is y)\n",
        "print('x is not y',x is not y)"
      ],
      "metadata": {
        "colab": {
          "base_uri": "https://localhost:8080/"
        },
        "id": "EMG1JWW9ylnZ",
        "outputId": "be29da20-c537-49df-e407-8607c9b74b07"
      },
      "execution_count": 13,
      "outputs": [
        {
          "output_type": "stream",
          "name": "stdout",
          "text": [
            " a is b True\n",
            " a is not b False\n",
            "x is y False\n",
            "x is not y True\n"
          ]
        }
      ]
    },
    {
      "cell_type": "code",
      "source": [
        "#Using membership operator(in and not in)\n",
        "a='hello ECE'\n",
        "print(' A in a' , 'h' in a)"
      ],
      "metadata": {
        "colab": {
          "base_uri": "https://localhost:8080/"
        },
        "id": "qeOywq6z0cBv",
        "outputId": "e2e9afb0-5eaa-425a-b8a6-c53f79edc65e"
      },
      "execution_count": 17,
      "outputs": [
        {
          "output_type": "stream",
          "name": "stdout",
          "text": [
            " A in a True\n"
          ]
        }
      ]
    },
    {
      "cell_type": "code",
      "source": [
        "num=int(input(\"enter a num\"))\n",
        "if num%2==0:\n",
        " print(\"num is even\")\n",
        "else:\n",
        " print(\"num is odd\")"
      ],
      "metadata": {
        "colab": {
          "base_uri": "https://localhost:8080/"
        },
        "id": "-yED_GJ71t9Z",
        "outputId": "191bc0c6-fc12-4901-a222-fbf4443af6c5"
      },
      "execution_count": 34,
      "outputs": [
        {
          "output_type": "stream",
          "name": "stdout",
          "text": [
            "enter a num30\n",
            "num is even\n"
          ]
        }
      ]
    },
    {
      "cell_type": "code",
      "source": [
        "num=int(input(\"enter a num\"))\n",
        "if num==50:\n",
        "  print('num is equal to 50')\n",
        "elif num==60:\n",
        " print(\"num is equal to 60\")\n",
        "elif num==100:\n",
        " print(\"num is equal to 100\")\n",
        "else:\n",
        " print(\" num is not equal to 50, 60&100\")  \n"
      ],
      "metadata": {
        "colab": {
          "base_uri": "https://localhost:8080/"
        },
        "id": "DqU9gWax4Wl3",
        "outputId": "b24348f4-ed7b-4a1b-bf14-e762a305f01c"
      },
      "execution_count": 40,
      "outputs": [
        {
          "output_type": "stream",
          "name": "stdout",
          "text": [
            "enter a num100\n",
            "num is equal to 100\n"
          ]
        }
      ]
    },
    {
      "cell_type": "markdown",
      "source": [],
      "metadata": {
        "id": "akaUk-OJujz9"
      }
    }
  ]
}