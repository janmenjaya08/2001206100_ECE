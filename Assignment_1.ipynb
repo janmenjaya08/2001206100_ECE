{
  "nbformat": 4,
  "nbformat_minor": 0,
  "metadata": {
    "colab": {
      "provenance": [],
      "toc_visible": true,
      "authorship_tag": "ABX9TyObf4YMW22wcc7C7lMG0Kii",
      "include_colab_link": true
    },
    "kernelspec": {
      "name": "python3",
      "display_name": "Python 3"
    },
    "language_info": {
      "name": "python"
    }
  },
  "cells": [
    {
      "cell_type": "markdown",
      "metadata": {
        "id": "view-in-github",
        "colab_type": "text"
      },
      "source": [
        "<a href=\"https://colab.research.google.com/github/janmenjaya08/2001206100_ECE/blob/main/Assignment_1.ipynb\" target=\"_parent\"><img src=\"https://colab.research.google.com/assets/colab-badge.svg\" alt=\"Open In Colab\"/></a>"
      ]
    },
    {
      "cell_type": "code",
      "execution_count": null,
      "metadata": {
        "id": "z06X0uG6hETH",
        "colab": {
          "base_uri": "https://localhost:8080/"
        },
        "outputId": "f60d9514-bf9e-4e7c-97d4-b5ebf112dcf0"
      },
      "outputs": [
        {
          "output_type": "stream",
          "name": "stdout",
          "text": [
            "enter radius of the circle 1\n",
            "the area of the circle 3.14\n",
            "the  of the circle perimeter  6.28\n"
          ]
        }
      ],
      "source": [
        "#find area and perimeter of the circle\n",
        "r =float(input(\"enter radius of the circle \"))\n",
        "area=3.14*r*r\n",
        "perimeter=2*3.14*r\n",
        "print(\"the area of the circle\",area)\n",
        "print(\"the  of the circle perimeter \",perimeter)"
      ]
    },
    {
      "cell_type": "code",
      "source": [
        "# input kilo meter converts to centimeter ,meter and millimeter\n",
        "k=float(input(\"enter kilo meter\"))\n",
        "cm=100000*k\n",
        "m=1000*k\n",
        "mm=1000000*k\n",
        "print(\"centi meter=\",cm)\n",
        "print(\"meter =\",m)\n",
        "print(\"mili meter=\",mm)\n"
      ],
      "metadata": {
        "colab": {
          "base_uri": "https://localhost:8080/"
        },
        "id": "H8LthyJyuh65",
        "outputId": "9a8306a3-61b8-4216-9fa0-8bf1330e2fe9"
      },
      "execution_count": null,
      "outputs": [
        {
          "output_type": "stream",
          "name": "stdout",
          "text": [
            "enter kilo meter2\n",
            "centi meter= 200000.0\n",
            "meter = 2000.0\n",
            "mili meter= 2000000.0\n"
          ]
        }
      ]
    },
    {
      "cell_type": "code",
      "source": [
        "#4.\tInput two numbers find remainder without ‘%’.\n",
        "a=int(input(\"enter the num\"))\n",
        "b=int(input(\"enter the divisor num\"))\n",
        "rm=(a-b*(a//b))\n",
        "print(\"reminder is\",rm)"
      ],
      "metadata": {
        "colab": {
          "base_uri": "https://localhost:8080/"
        },
        "id": "RAkiHusr_t3T",
        "outputId": "7c054245-f366-449c-f8c7-62ed7055195d"
      },
      "execution_count": null,
      "outputs": [
        {
          "output_type": "stream",
          "name": "stdout",
          "text": [
            "enter the num10\n",
            "enter the divisor num2\n",
            "reminder is 0\n"
          ]
        }
      ]
    },
    {
      "cell_type": "code",
      "source": [
        "#3.\tInput two numbers find sum without ‘+’operator.\n",
        "a=int(input(\"enter the first num\"))\n",
        "b=int(input(\"enter the second num\"))\n",
        "sum=(a)-(-b)\n",
        "print(\"the sum of two num is\",str(sum))"
      ],
      "metadata": {
        "colab": {
          "base_uri": "https://localhost:8080/"
        },
        "id": "kECuaTl3Bo6q",
        "outputId": "d33ae337-4030-41ef-b2d0-7f1024508fd4"
      },
      "execution_count": null,
      "outputs": [
        {
          "output_type": "stream",
          "name": "stdout",
          "text": [
            "enter first num20\n",
            "enter second num10\n",
            "the sum of two num is 30\n"
          ]
        }
      ]
    },
    {
      "cell_type": "code",
      "source": [
        "#5.\tInput temperature finds Celsius and Fahrenheit and vice-versa.\n",
        "f=float(input(\"input temperature in fahrenheit\"))\n",
        "c=(f-32)*5/9\n",
        "print(\"clesius of the temperature is\",c)\n",
        "d=float(input(\"input temperature in clesius\"))\n",
        "e=(d*9/5)+32\n",
        "print(\"fahrenheit of temperature is\",e)"
      ],
      "metadata": {
        "colab": {
          "base_uri": "https://localhost:8080/"
        },
        "id": "syYhDhsnFT-e",
        "outputId": "80682672-033b-4f49-d592-465ef3cab9fc"
      },
      "execution_count": null,
      "outputs": [
        {
          "output_type": "stream",
          "name": "stdout",
          "text": [
            "input temperature in fahrenheit32\n",
            "clesius of the temperature is 0.0\n",
            "input temperature in clesius0\n",
            "fahrenheit of temperature is 32.0\n"
          ]
        }
      ]
    },
    {
      "cell_type": "code",
      "source": [
        "n=int(input(\"input a num\"))\n",
        "rev=str(n)[::-1]\n",
        "print(\"the reverse num is\",rev)\n"
      ],
      "metadata": {
        "id": "syRrJHObMHHF",
        "colab": {
          "base_uri": "https://localhost:8080/"
        },
        "outputId": "67479716-d7e4-4810-dafe-a99ab35ed837"
      },
      "execution_count": 27,
      "outputs": [
        {
          "output_type": "stream",
          "name": "stdout",
          "text": [
            "input a num325\n",
            "the reverse num is 523\n"
          ]
        }
      ]
    }
  ]
}