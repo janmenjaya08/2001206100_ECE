{
  "nbformat": 4,
  "nbformat_minor": 0,
  "metadata": {
    "colab": {
      "provenance": [],
      "authorship_tag": "ABX9TyM3L1BLze6JUXN1mWLYlwT+",
      "include_colab_link": true
    },
    "kernelspec": {
      "name": "python3",
      "display_name": "Python 3"
    },
    "language_info": {
      "name": "python"
    }
  },
  "cells": [
    {
      "cell_type": "markdown",
      "metadata": {
        "id": "view-in-github",
        "colab_type": "text"
      },
      "source": [
        "<a href=\"https://colab.research.google.com/github/janmenjaya08/2001206100_ECE/blob/main/assignment(if_else)2.ipynb\" target=\"_parent\"><img src=\"https://colab.research.google.com/assets/colab-badge.svg\" alt=\"Open In Colab\"/></a>"
      ]
    },
    {
      "cell_type": "code",
      "execution_count": 11,
      "metadata": {
        "colab": {
          "base_uri": "https://localhost:8080/"
        },
        "id": "qOiPvnBj11lI",
        "outputId": "d3bcfa23-d457-496c-9a87-2b65c101ec54"
      },
      "outputs": [
        {
          "output_type": "stream",
          "name": "stdout",
          "text": [
            "enter your salary1000\n",
            "enter year of service4\n",
            "net salary= 1000\n"
          ]
        }
      ],
      "source": [
        "#1. A company decided to give bonus of 5% to employee if his/her year of service is more than 5 years. \n",
        "#Ask user for their salary and year of service and print the net bonus amount.\n",
        "salary=int(input('enter your salary='))\n",
        "year=int(input('enter year of service='))\n",
        "if year>5:\n",
        " bonous=salary*5/100\n",
        " fsalary=salary+bonous\n",
        " print('net salary=',fsalary)\n",
        "else:\n",
        " print('net salary=',salary)\n"
      ]
    },
    {
      "cell_type": "code",
      "source": [
        "#2. Take values of length and breadth of a rectangle from user and check if it is square or not.\n",
        "length=float(input('enter length='))\n",
        "breadth=float(input('enter breadth='))\n",
        "if length==breadth:\n",
        "  print('it is a square')\n",
        "else: \n",
        " print('it is not a square')  \n"
      ],
      "metadata": {
        "colab": {
          "base_uri": "https://localhost:8080/"
        },
        "id": "_6lEj9PE12mQ",
        "outputId": "1b4a044c-ff11-401c-dbcc-3ba568e475ab"
      },
      "execution_count": 10,
      "outputs": [
        {
          "output_type": "stream",
          "name": "stdout",
          "text": [
            "enter length5\n",
            "enter breadth6\n",
            "it is not a square\n"
          ]
        }
      ]
    },
    {
      "cell_type": "code",
      "source": [
        "#3. Take two int values from user and print greatest among them.\n",
        "num1=float(input(\"enter a num=\"))\n",
        "num2=float(input(\"enter a num=\"))\n",
        "if num1>num2:\n",
        "  print('num1 is the greatest num',+num1)\n",
        "else:\n",
        "  print('num2 is the greatest num',+num2)\n",
        "     "
      ],
      "metadata": {
        "colab": {
          "base_uri": "https://localhost:8080/"
        },
        "id": "7QuhTDNP6gr3",
        "outputId": "8465909f-decd-430f-def5-83c305059aba"
      },
      "execution_count": 13,
      "outputs": [
        {
          "output_type": "stream",
          "name": "stdout",
          "text": [
            "enter a num5\n",
            "enter a num2\n",
            "num1 is the greatest num 5.0\n"
          ]
        }
      ]
    },
    {
      "cell_type": "code",
      "source": [
        "#4. A shop will give discount of 10% if the cost of purchased quantity is more than 1000.\n",
        "#Ask user for quantity suppose, one unit will cost 100. Judge and print total cost for user.\n",
        "quantity=float(input(\"enter quantity=\"))\n",
        "unit=100\n",
        "if quantity>1000:\n",
        "  cost=unit*10/100\n",
        "  tcost=unit-cost\n",
        "  print(\"the total cost\",tcost)\n",
        "else:\n",
        "  print(\"the total cost=\",unit)  \n"
      ],
      "metadata": {
        "colab": {
          "base_uri": "https://localhost:8080/"
        },
        "id": "I0UWDxfa8Cmf",
        "outputId": "84968532-326a-4849-9e8f-8f0d4c1b4249"
      },
      "execution_count": 15,
      "outputs": [
        {
          "output_type": "stream",
          "name": "stdout",
          "text": [
            "enter quantity2000\n",
            "the total cost 90.0\n"
          ]
        }
      ]
    },
    {
      "cell_type": "code",
      "source": [
        "#5. A school has following rules for grading system:\n",
        "#a. Below 25 -F b. 25 to 45 - E c. 45 to 50 - D\n",
        "#d. 50 to 60 - C e. 60 to 80 - B f. Above 80 - A\n",
        "#Ask user to enter marks and print the corresponding grade.\n",
        "mark=float(input(\"enter mark=\"))\n",
        "print(\"grade\")\n",
        "if mark<25:\n",
        "  print(' F')\n",
        "elif mark>25 and mark<45:\n",
        "  print('E') \n",
        "elif mark>45 and mark<50:\n",
        "  print('D')  \n",
        "elif mark>50 and mark<60:\n",
        "  print('C')\n",
        "elif mark>60 and mark<80:\n",
        " print('B') \n",
        "#if mark is greater than 80\n",
        "else:\n",
        "  print('A')\n",
        "\n",
        " \n",
        "\n"
      ],
      "metadata": {
        "colab": {
          "base_uri": "https://localhost:8080/"
        },
        "id": "ejkeFCrmLvE_",
        "outputId": "038336ee-2eff-4724-e839-2566ab35657e"
      },
      "execution_count": 19,
      "outputs": [
        {
          "output_type": "stream",
          "name": "stdout",
          "text": [
            "enter mark70\n",
            "grade\n",
            "B\n"
          ]
        }
      ]
    },
    {
      "cell_type": "code",
      "source": [
        "#6. Take input of age of 3 people by user and determine oldest and youngest amon\n",
        "# a,b,c is taken as variable for 3 people\n",
        "a=int(input(\"enter age=\"))\n",
        "b=int(input(\"enter age=\"))\n",
        "c=int(input(\"enter age=\"))\n",
        "if a>b and a>c :\n",
        "   print(\"a is oldest\")\n",
        "elif b>c and b>a:\n",
        "   print(\"b is oldest\")\n",
        "elif c>a and c>b:\n",
        "    print(\"c is oldest\")\n",
        "if a<b and a<c :\n",
        "    print(\"a is youngest\")\n",
        "elif b<a  and b<c:    \n",
        "    print(\"b is youngest\")\n",
        "else:\n",
        "  print(\"c is youngest\")    \n",
        "   \n"
      ],
      "metadata": {
        "colab": {
          "base_uri": "https://localhost:8080/"
        },
        "id": "p8GpotVFOnku",
        "outputId": "cd7d8cac-26a7-4072-f5e7-3c94db816ec9"
      },
      "execution_count": 68,
      "outputs": [
        {
          "output_type": "stream",
          "name": "stdout",
          "text": [
            "enter age=10\n",
            "enter age=20\n",
            "enter age=2\n",
            "b is oldest\n",
            "c is youngest\n"
          ]
        }
      ]
    },
    {
      "cell_type": "code",
      "source": [
        "#7. Write a program to print absolute vlaue of a number entered by user. E.g.-\n",
        "#INPUT: 1        OUTPUT: 1\n",
        "#INPUT: -1       OUTPUT: 1\n",
        "num=float(input(\"enter a num=\"))\n",
        "if num<0:\n",
        "  s=-num\n",
        "  print(s) \n",
        "else:\n",
        "  print(num)   \n"
      ],
      "metadata": {
        "colab": {
          "base_uri": "https://localhost:8080/"
        },
        "id": "5G4zOE9_P9pj",
        "outputId": "81472803-5d6a-4433-dce4-8cd154a707fe"
      },
      "execution_count": 44,
      "outputs": [
        {
          "output_type": "stream",
          "name": "stdout",
          "text": [
            "enter a num-20\n",
            "20.0\n"
          ]
        }
      ]
    },
    {
      "cell_type": "code",
      "source": [
        "#8. A student will not be allowed to sit in exam if his/her attendence is less than 75%.\n",
        "#Take following input from user\n",
        "#Number of classes held\n",
        "#Number of classes attended.And print percentage of class attended\n",
        "#Is student is allowed to sit in exam or not.\n",
        "\n",
        "numclass=int(input(\"enter num of class held=\"))\n",
        "#num of class held\n",
        "numclassatt=int(input(\"enter num of class attend=\"))\n",
        "#num of class attend\n",
        "per=numclassatt/numclass*100\n",
        "#percentage of attendance\n",
        "if per>=75:\n",
        "  print(\"student is allowed to sit in exam\")\n",
        "else:\n",
        "  print(\"student is not allowed to sit in exam\")\n"
      ],
      "metadata": {
        "colab": {
          "base_uri": "https://localhost:8080/"
        },
        "id": "F4TQnyvFXSuM",
        "outputId": "770d460c-c4be-4e50-e645-d355c02c16f8"
      },
      "execution_count": 47,
      "outputs": [
        {
          "output_type": "stream",
          "name": "stdout",
          "text": [
            "enter num of class held=10\n",
            "enter num of class attend=8\n",
            "student is allowed to sit in exam\n"
          ]
        }
      ]
    },
    {
      "cell_type": "code",
      "source": [
        "#9. Traffic light:\n",
        "#Write a python program that will check for the following conditions:\n",
        "#If the light is green – Car is allowed to go\n",
        "#If the light is yellow – Car has to wait\n",
        "#If the light is red – Car has to stop\n",
        "light=str(input(\"enter colour of light=\"))\n",
        "if light=='green':\n",
        "  print(\"car is allowed to go\")\n",
        "elif light=='yellow':\n",
        "   print (\"car has to wait\") \n",
        "elif light=='red':\n",
        "  print(\"car has to stop\")\n",
        "else:\n",
        "   print(\"invalid light colour or invalid traffic signal\")     \n",
        "\n"
      ],
      "metadata": {
        "colab": {
          "base_uri": "https://localhost:8080/"
        },
        "id": "AlI1VWG9Y8oN",
        "outputId": "9fa5751f-af5e-4a3e-e17e-853d30ef8c71"
      },
      "execution_count": 60,
      "outputs": [
        {
          "output_type": "stream",
          "name": "stdout",
          "text": [
            "enter colour of light=yellow\n",
            "car has to wait\n"
          ]
        }
      ]
    },
    {
      "cell_type": "code",
      "source": [],
      "metadata": {
        "id": "oji0YfKaa9KT"
      },
      "execution_count": null,
      "outputs": []
    }
  ]
}